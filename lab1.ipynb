{
  "nbformat": 4,
  "nbformat_minor": 0,
  "metadata": {
    "colab": {
      "provenance": [],
      "gpuType": "T4",
      "authorship_tag": "ABX9TyNR/twGnjQuz16uWEd06NhW",
      "include_colab_link": true
    },
    "kernelspec": {
      "name": "python3",
      "display_name": "Python 3"
    },
    "language_info": {
      "name": "python"
    },
    "accelerator": "GPU"
  },
  "cells": [
    {
      "cell_type": "markdown",
      "metadata": {
        "id": "view-in-github",
        "colab_type": "text"
      },
      "source": [
        "<a href=\"https://colab.research.google.com/github/xuanchiengigido/ML_2024/blob/main/lab1.ipynb\" target=\"_parent\"><img src=\"https://colab.research.google.com/assets/colab-badge.svg\" alt=\"Open In Colab\"/></a>"
      ]
    },
    {
      "cell_type": "code",
      "execution_count": null,
      "metadata": {
        "id": "cVCEGQQqiTuu",
        "colab": {
          "base_uri": "https://localhost:8080/"
        },
        "outputId": "1bc2f8ce-9e29-4c9b-c73a-fd8e6f412bf2"
      },
      "outputs": [
        {
          "output_type": "stream",
          "name": "stdout",
          "text": [
            "Enter n: 3\n",
            "Your input number is: 3\n",
            "Enter n number of element: 4\n",
            "enter number: 1\n",
            "enter number: 3\n",
            "enter number: 9\n",
            "enter number: 7\n",
            "1\n",
            "3\n",
            "9\n",
            "7\n",
            "max is  9\n",
            "min is  1\n"
          ]
        }
      ],
      "source": [
        "#task 1.1\n",
        "n = int(input(\"Enter n: \"))\n",
        "print(\"Your input number is: \" + str(n))\n",
        "\n",
        "\n",
        "\n",
        "n = int(input(\"Enter n number of element: \"))\n",
        "myList = list()\n",
        "num = 0\n",
        "while num < n:\n",
        "  myList.append(int(input(\"enter number: \")))\n",
        "  num += 1\n",
        "for i in myList:\n",
        "  print(i)\n",
        "\n",
        "print(\"max is \", max(myList))\n",
        "print(\"min is \", min(myList))\n",
        "\n",
        "\n",
        "\n",
        "\n",
        "\n",
        "\n",
        "\n",
        "\n",
        "\n",
        "\n"
      ]
    },
    {
      "cell_type": "markdown",
      "source": [],
      "metadata": {
        "id": "VfluSeWRt_Is"
      }
    }
  ]
}