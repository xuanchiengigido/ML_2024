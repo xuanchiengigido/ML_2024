{
  "nbformat": 4,
  "nbformat_minor": 0,
  "metadata": {
    "colab": {
      "provenance": [],
      "gpuType": "T4",
      "name": "Lab1_21130298_VuXuanChien.ipynb",
      "authorship_tag": "ABX9TyNo/1Hj52Rm0bLvZ5HD4QaQ",
      "include_colab_link": true
    },
    "kernelspec": {
      "name": "python3",
      "display_name": "Python 3"
    },
    "language_info": {
      "name": "python"
    },
    "accelerator": "GPU"
  },
  "cells": [
    {
      "cell_type": "markdown",
      "metadata": {
        "id": "view-in-github",
        "colab_type": "text"
      },
      "source": [
        "<a href=\"https://colab.research.google.com/github/xuanchiengigido/ML_2024/blob/main/Lab1_21130298_VuXuanChien.ipynb\" target=\"_parent\"><img src=\"https://colab.research.google.com/assets/colab-badge.svg\" alt=\"Open In Colab\"/></a>"
      ]
    },
    {
      "cell_type": "code",
      "execution_count": null,
      "metadata": {
        "id": "cVCEGQQqiTuu",
        "colab": {
          "base_uri": "https://localhost:8080/"
        },
        "outputId": "e83d3e86-43fd-46f5-cd02-27e015778042"
      },
      "outputs": [
        {
          "output_type": "stream",
          "name": "stdout",
          "text": [
            "Enter n: 1\n",
            "Your input number is: 1\n",
            "Enter n number of element: 3\n",
            "enter number: 1\n",
            "enter number: 3\n",
            "enter number: 2\n",
            "[1, 3, 2]\n",
            "max method return:  3\n",
            "min method return:  1\n",
            "sum method return:  6\n",
            "myMax method return:  3\n",
            "myMin method return:  1\n",
            "mySum method return:  6\n",
            "[1, 2, 3]\n"
          ]
        }
      ],
      "source": [
        "#task 1.1\n",
        "\n",
        "n = int(input(\"Enter n: \"))\n",
        "print(\"Your input number is: \" + str(n))\n",
        "n = int(input(\"Enter n number of element: \")) #override 'n'\n",
        "myList = []\n",
        "num = 0 #counter\n",
        "while num < n:\n",
        "  myList.append(int(input(\"enter number: \")))\n",
        "  num += 1\n",
        "\n",
        "# test task 1.1\n",
        "print(myList)\n",
        "print(\"max method return: \", max(myList))\n",
        "print(\"min method return: \", min(myList))\n",
        "print(\"sum method return: \", sum(myList))\n",
        "\n",
        "\n",
        "# diy functions\n",
        "\n",
        "def myMax(list):\n",
        "  max = list[0]\n",
        "  for e in list:\n",
        "    if max < e : max = e\n",
        "  return max\n",
        "\n",
        "def myMin(list):\n",
        "  min = list[0]\n",
        "  for e in list:\n",
        "    if min > e : min = e\n",
        "  return min\n",
        "\n",
        "def mySum(list):\n",
        "  sum = 0\n",
        "  for e in list:\n",
        "    sum += e\n",
        "  return sum\n",
        "\n",
        "# test diy functions\n",
        "print(\"myMax method return: \", myMax(myList))\n",
        "print(\"myMin method return: \", myMin(myList))\n",
        "print(\"mySum method return: \", mySum(myList))\n",
        "\n",
        "#sort\n",
        "myList.sort()\n",
        "print(myList)\n",
        "\n",
        "\n",
        "\n",
        "\n",
        "\n",
        "\n"
      ]
    },
    {
      "cell_type": "code",
      "source": [
        "# task 1.3\n",
        "\n",
        "#Account\n",
        "class Account():\n",
        "\n",
        "  def __init__(self, name, email, country, friends = None, posts = None):\n",
        "    self.__name = name\n",
        "    self.__email = email\n",
        "    self.__country = country\n",
        "    self.set_friends(friends)\n",
        "    self.set_posts(posts)\n",
        "\n",
        "  #getters\n",
        "  def get_name(self):\n",
        "    return self.__name\n",
        "\n",
        "  def get_email(self):\n",
        "    return self.__email\n",
        "\n",
        "  def get_country(self):\n",
        "    return self.__country\n",
        "\n",
        "  def get_friends(self):\n",
        "    return self.__friends\n",
        "\n",
        "  def get_posts(self):\n",
        "    return self.__posts\n",
        "\n",
        "  #setters\n",
        "\n",
        "  def set_name(self, name):\n",
        "    self.__name = name\n",
        "\n",
        "  def set_email(self, email):\n",
        "    self.__email = email\n",
        "\n",
        "  def set_country(self, country):\n",
        "    self.__country = country\n",
        "\n",
        "  def set_friends(self, friends):\n",
        "    response = []\n",
        "    for e in friends:\n",
        "      response.append(Account(e.get_name, e.get_email, e.get_country, e.get_friends, e.get_posts))\n",
        "    self.__friends = response\n",
        "\n",
        "  def set_post(self, posts):\n",
        "    response = []\n",
        "    for e in posts:\n",
        "      response.append(Post(e.get_content, e.get_subject, e.get_likes))\n",
        "    self.__posts = response\n",
        "\n",
        "#Post\n",
        "class Post:\n",
        "\n",
        "  def __init__(self, content, subject, likes):\n",
        "    self.__content = content\n",
        "    self.__subject = subject\n",
        "    self.__likes = int(likes)\n",
        "\n",
        "  # getters\n",
        "\n",
        "  def get_content(self):\n",
        "    return self.__content\n",
        "\n",
        "  def get_subject(self):\n",
        "    return self.__subject\n",
        "\n",
        "  def get_likes(self):\n",
        "    return self.__likes\n",
        "\n",
        "  # setter\n",
        "\n",
        "  def set_content(self, content):\n",
        "    self.__content = content\n",
        "\n",
        "  def set_subject(self, subject):\n",
        "    self.__subject = subject\n",
        "\n",
        "  def set_likes(self, likes):\n",
        "    self.__likes = int(likes)\n",
        "\n",
        "\n"
      ],
      "metadata": {
        "id": "2HtpTI-lXiT7"
      },
      "execution_count": 1,
      "outputs": []
    },
    {
      "cell_type": "markdown",
      "source": [],
      "metadata": {
        "id": "VfluSeWRt_Is"
      }
    }
  ]
}